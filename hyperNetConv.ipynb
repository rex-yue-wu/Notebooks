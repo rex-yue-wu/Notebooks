{
  "nbformat": 4,
  "nbformat_minor": 0,
  "metadata": {
    "colab": {
      "name": "hyperNetConv.ipynb",
      "version": "0.3.2",
      "provenance": []
    },
    "kernelspec": {
      "name": "python2",
      "display_name": "Python 2"
    }
  },
  "cells": [
    {
      "cell_type": "markdown",
      "metadata": {
        "id": "view-in-github",
        "colab_type": "text"
      },
      "source": [
        "[View in Colaboratory](https://colab.research.google.com/github/rex-yue-wu/Notebooks/blob/master/hyperNetConv.ipynb)"
      ]
    },
    {
      "metadata": {
        "id": "4eHPcNSvkvO_",
        "colab_type": "code",
        "colab": {}
      },
      "cell_type": "code",
      "source": [
        "from keras.layers import Input, Lambda, Conv2D, Flatten, MaxPool2D, Dense\n",
        "from keras import backend as K\n",
        "from keras.models import Model\n",
        "from keras.utils import conv_utils\n",
        "import tensorflow as tf\n",
        "import numpy as np \n",
        "\n",
        "class MyConv2D( Conv2D ) :\n",
        "    def __init__( self, filters,\n",
        "                 kernel_size,\n",
        "                 strides=(1, 1),\n",
        "                 padding='valid',\n",
        "                 data_format=None,\n",
        "                 dilation_rate=(1, 1),\n",
        "                 activation=None,\n",
        "                 use_bias=True,\n",
        "                 kernel_initializer='glorot_uniform',\n",
        "                 bias_initializer='zeros',\n",
        "                 kernel_regularizer=None,\n",
        "                 bias_regularizer=None,\n",
        "                 activity_regularizer=None,\n",
        "                 kernel_constraint=None,\n",
        "                 bias_constraint=None,\n",
        "                 **kwargs):\n",
        "        super( MyConv2D, self ).__init__( filters,\n",
        "                 kernel_size=kernel_size,\n",
        "                 strides=strides,\n",
        "                 padding=padding,\n",
        "                 data_format=data_format,\n",
        "                 dilation_rate=dilation_rate,\n",
        "                 activation=activation,\n",
        "                 use_bias=use_bias,\n",
        "                 kernel_initializer=kernel_initializer,\n",
        "                 bias_initializer=bias_initializer,\n",
        "                 kernel_regularizer=kernel_regularizer,\n",
        "                 bias_regularizer=bias_regularizer,\n",
        "                 activity_regularizer=activity_regularizer,\n",
        "                 kernel_constraint=kernel_constraint,\n",
        "                 bias_constraint=bias_constraint,\n",
        "                 **kwargs)\n",
        "        self.input_spec = None\n",
        "    def build( self, input_shapes ):\n",
        "        input_shape = input_shapes[0]\n",
        "        if self.data_format == 'channels_first':\n",
        "            channel_axis = 1\n",
        "        else:\n",
        "            channel_axis = -1\n",
        "        if input_shape[channel_axis] is None:\n",
        "            raise ValueError('The channel dimension of the inputs '\n",
        "                             'should be defined. Found `None`.')\n",
        "        input_dim = input_shape[channel_axis]\n",
        "        self.kernel_shape = self.kernel_size + (input_dim, self.filters)\n",
        "        if self.use_bias:\n",
        "            self.bias_shape = (self.filters,)\n",
        "        else:\n",
        "            self.bias_shape = None\n",
        "        self.built = True\n",
        "    def call( self, inputs ) :\n",
        "        if len( inputs ) == 3 :\n",
        "            x, kernel, bias = inputs\n",
        "            kernel = K.reshape( kernel, self.kernel_shape )\n",
        "            bias = K.reshape( bias, self.bias_shape )\n",
        "        else :\n",
        "            x, kernel = inputs\n",
        "            kernel = K.reshape( kernel, self.kernel_shape )\n",
        "        outputs = K.conv2d( x, kernel, \n",
        "                            strides=self.strides, \n",
        "                            padding=self.padding,\n",
        "                            data_format=self.data_format,\n",
        "                            dilation_rate=self.dilation_rate)\n",
        "        if self.use_bias:\n",
        "                outputs = K.bias_add( outputs,\n",
        "                                      bias,\n",
        "                                      data_format=self.data_format)\n",
        "        if self.activation is not None:\n",
        "            return self.activation(outputs)\n",
        "        return outputs\n",
        "    def compute_output_shape(self, input_shapes):\n",
        "        input_shape = input_shapes[0]\n",
        "        output_shape = list(input_shape)\n",
        "        if self.data_format == 'channels_first':\n",
        "            c_axis, h_axis, w_axis = 1, 2, 3\n",
        "        else:\n",
        "            c_axis, h_axis, w_axis = 3, 1, 2\n",
        "\n",
        "        kernel_h, kernel_w = self.kernel_size\n",
        "        stride_h, stride_w = self.strides\n",
        "\n",
        "        output_shape[c_axis] = self.filters\n",
        "        output_shape[h_axis] = conv_utils.deconv_length(\n",
        "            output_shape[h_axis], stride_h, kernel_h, self.padding)\n",
        "        output_shape[w_axis] = conv_utils.deconv_length(\n",
        "            output_shape[w_axis], stride_w, kernel_w, self.padding)\n",
        "        return tuple(output_shape)\n",
        "\n",
        "        \n",
        "\n",
        "\n"
      ],
      "execution_count": 0,
      "outputs": []
    },
    {
      "metadata": {
        "id": "j0DwAv_ppSWJ",
        "colab_type": "code",
        "colab": {
          "base_uri": "https://localhost:8080/",
          "height": 834
        },
        "outputId": "53389eee-b052-4d03-b6f3-9d0e3eb95e0f"
      },
      "cell_type": "code",
      "source": [
        "# branch 1: ref featex\n",
        "ref = Input(shape=(256,256,3))\n",
        "fr = Conv2D(16,(3,3), activation='relu', padding='same')(ref)\n",
        "fr = MaxPool2D((2,2))(fr)\n",
        "fr = Conv2D(32,(3,3), activation='relu', padding='same')(fr)\n",
        "fr = MaxPool2D((2,2))(fr)\n",
        "fr = Conv2D(64,(3,3), activation='relu', padding='same')(fr)\n",
        "fr = MaxPool2D((2,2))(fr)\n",
        "fr = Conv2D(128,(3,3), activation='relu', padding='same')(fr)\n",
        "fr = MaxPool2D((2,2))(fr)\n",
        "nb_filters_in = fr._shape_as_list()[-1]\n",
        "# branch 2: query featex\n",
        "kernel_size=(3,3)\n",
        "nb_filters=256\n",
        "qry = Input(shape=(16,16,3))\n",
        "fq = Conv2D(8,(3,3),activation='relu',padding='same')(qry)\n",
        "fq = Conv2D(16,(3,3),activation='relu',padding='same')(fq)\n",
        "fq = Flatten()(fq)\n",
        "fq = Dense(256, activation='relu')(fq)\n",
        "# note: make sure kq and bq uses the 'linear' activation\n",
        "kq = Dense(np.product(kernel_size)*nb_filters*nb_filters_in, name='kernel')(fq)\n",
        "bq = Dense(nb_filters, name='bias')(fq)\n",
        "# branch 3: query-kernel conv ref-feat\n",
        "res = MyConv2D( nb_filters, kernel_size, padding='same', activation='relu')([fr, kq, bq])\n",
        "res = Conv2D(1,(3,3), activation='sigmoid', padding='same', name='pred')(res)\n",
        "\n",
        "model = Model( inputs=[ref, qry], outputs=res, name='test')\n",
        "print model.summary()\n",
        "\n",
        "\n"
      ],
      "execution_count": 36,
      "outputs": [
        {
          "output_type": "stream",
          "text": [
            "__________________________________________________________________________________________________\n",
            "Layer (type)                    Output Shape         Param #     Connected to                     \n",
            "==================================================================================================\n",
            "input_37 (InputLayer)           (None, 256, 256, 3)  0                                            \n",
            "__________________________________________________________________________________________________\n",
            "conv2d_85 (Conv2D)              (None, 256, 256, 16) 448         input_37[0][0]                   \n",
            "__________________________________________________________________________________________________\n",
            "max_pooling2d_57 (MaxPooling2D) (None, 128, 128, 16) 0           conv2d_85[0][0]                  \n",
            "__________________________________________________________________________________________________\n",
            "conv2d_86 (Conv2D)              (None, 128, 128, 32) 4640        max_pooling2d_57[0][0]           \n",
            "__________________________________________________________________________________________________\n",
            "input_38 (InputLayer)           (None, 16, 16, 3)    0                                            \n",
            "__________________________________________________________________________________________________\n",
            "max_pooling2d_58 (MaxPooling2D) (None, 64, 64, 32)   0           conv2d_86[0][0]                  \n",
            "__________________________________________________________________________________________________\n",
            "conv2d_89 (Conv2D)              (None, 16, 16, 8)    224         input_38[0][0]                   \n",
            "__________________________________________________________________________________________________\n",
            "conv2d_87 (Conv2D)              (None, 64, 64, 64)   18496       max_pooling2d_58[0][0]           \n",
            "__________________________________________________________________________________________________\n",
            "conv2d_90 (Conv2D)              (None, 16, 16, 16)   1168        conv2d_89[0][0]                  \n",
            "__________________________________________________________________________________________________\n",
            "max_pooling2d_59 (MaxPooling2D) (None, 32, 32, 64)   0           conv2d_87[0][0]                  \n",
            "__________________________________________________________________________________________________\n",
            "flatten_14 (Flatten)            (None, 4096)         0           conv2d_90[0][0]                  \n",
            "__________________________________________________________________________________________________\n",
            "conv2d_88 (Conv2D)              (None, 32, 32, 128)  73856       max_pooling2d_59[0][0]           \n",
            "__________________________________________________________________________________________________\n",
            "dense_13 (Dense)                (None, 256)          1048832     flatten_14[0][0]                 \n",
            "__________________________________________________________________________________________________\n",
            "max_pooling2d_60 (MaxPooling2D) (None, 16, 16, 128)  0           conv2d_88[0][0]                  \n",
            "__________________________________________________________________________________________________\n",
            "kernel (Dense)                  (None, 294912)       75792384    dense_13[0][0]                   \n",
            "__________________________________________________________________________________________________\n",
            "bias (Dense)                    (None, 256)          65792       dense_13[0][0]                   \n",
            "__________________________________________________________________________________________________\n",
            "my_conv2d_8 (MyConv2D)          (None, 16, 16, 256)  0           max_pooling2d_60[0][0]           \n",
            "                                                                 kernel[0][0]                     \n",
            "                                                                 bias[0][0]                       \n",
            "__________________________________________________________________________________________________\n",
            "pred (Conv2D)                   (None, 16, 16, 1)    2305        my_conv2d_8[0][0]                \n",
            "==================================================================================================\n",
            "Total params: 77,008,145\n",
            "Trainable params: 77,008,145\n",
            "Non-trainable params: 0\n",
            "__________________________________________________________________________________________________\n",
            "None\n"
          ],
          "name": "stdout"
        }
      ]
    },
    {
      "metadata": {
        "id": "5tm4zo6wAVzC",
        "colab_type": "code",
        "colab": {
          "base_uri": "https://localhost:8080/",
          "height": 34
        },
        "outputId": "65e924da-d191-4366-c812-36ab08e6129a"
      },
      "cell_type": "code",
      "source": [
        "a = np.random.randn(1,256,256,3)\n",
        "b = np.random.randn(1,16,16,3)\n",
        "c = model.predict([a,b])\n",
        "print c.shape"
      ],
      "execution_count": 37,
      "outputs": [
        {
          "output_type": "stream",
          "text": [
            "(1, 16, 16, 1)\n"
          ],
          "name": "stdout"
        }
      ]
    },
    {
      "metadata": {
        "id": "zpzqD8YNCTqy",
        "colab_type": "code",
        "colab": {
          "base_uri": "https://localhost:8080/",
          "height": 70
        },
        "outputId": "d5db0956-a63d-4c09-c339-476c3f218bce"
      },
      "cell_type": "code",
      "source": [
        "model.compile( loss='binary_crossentropy', optimizer='sgd')\n",
        "model.fit( [a,b], c)"
      ],
      "execution_count": 38,
      "outputs": [
        {
          "output_type": "stream",
          "text": [
            "Epoch 1/1\n",
            "1/1 [==============================] - 3s 3s/step - loss: 0.6921\n"
          ],
          "name": "stdout"
        },
        {
          "output_type": "execute_result",
          "data": {
            "text/plain": [
              "<keras.callbacks.History at 0x7f8509713490>"
            ]
          },
          "metadata": {
            "tags": []
          },
          "execution_count": 38
        }
      ]
    }
  ]
}