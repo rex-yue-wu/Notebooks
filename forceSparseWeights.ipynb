{
  "nbformat": 4,
  "nbformat_minor": 0,
  "metadata": {
    "colab": {
      "name": "forceSparseWeights.ipynb",
      "version": "0.3.2",
      "provenance": []
    },
    "kernelspec": {
      "name": "python2",
      "display_name": "Python 2"
    },
    "accelerator": "GPU"
  },
  "cells": [
    {
      "cell_type": "markdown",
      "metadata": {
        "id": "view-in-github",
        "colab_type": "text"
      },
      "source": [
        "[View in Colaboratory](https://colab.research.google.com/github/rex-yue-wu/Notebooks/blob/master/forceSparseWeights.ipynb)"
      ]
    },
    {
      "metadata": {
        "id": "S_Nc8qsiP97e",
        "colab_type": "code",
        "colab": {}
      },
      "cell_type": "code",
      "source": [
        "import keras\n",
        "import tensorflow as tf\n",
        "from keras import backend as K\n",
        "import numpy as np \n",
        "from keras.layers import Input, Conv1D, Conv3D, SimpleRNN, Conv2D, Reshape, Permute, TimeDistributed\n",
        "from keras.models import Model\n",
        "from keras.constraints import Constraint\n",
        "from keras.callbacks import Callback\n",
        "from matplotlib import pyplot\n",
        "from copy import deepcopy"
      ],
      "execution_count": 0,
      "outputs": []
    },
    {
      "metadata": {
        "id": "9TZ9J4tt_s9k",
        "colab_type": "text"
      },
      "cell_type": "markdown",
      "source": [
        "# Define our custom constraints to force small weights to zeros \n",
        "# and callbacks to monitor weight sparsity"
      ]
    },
    {
      "metadata": {
        "id": "UkkRacOqQDvo",
        "colab_type": "code",
        "colab": {}
      },
      "cell_type": "code",
      "source": [
        "class NoSmallWeights(Constraint) :\n",
        "    def __init__(self, th_val=1e-3 ):\n",
        "        self.th_val = th_val\n",
        "    def __call__(self, w):\n",
        "        w *= K.cast(K.greater_equal(w, self.th_val), K.floatx())\n",
        "        return w        \n",
        "\n",
        "class ShowSparsity( Callback ) :\n",
        "    def __init__( self, th_val=1e-3 ) :\n",
        "        self.th_val = th_val\n",
        "    def on_epoch_end( self, epoch, logs ) :\n",
        "        w_list = self.model.get_weights()\n",
        "        w_list = sum( [], w_list )\n",
        "        denominator = 0.\n",
        "        numerator = 0.\n",
        "        for w in w_list :\n",
        "            if w.ndim > 1 :\n",
        "                denominator += w.size\n",
        "                numerator += np.sum( w < self.th_val )\n",
        "        print \"Epoch {:05d}, sparsity = {:.4f}\".format( epoch, numerator/denominator )\n",
        "            "
      ],
      "execution_count": 0,
      "outputs": []
    },
    {
      "metadata": {
        "id": "CBOtmaA1_6xm",
        "colab_type": "text"
      },
      "cell_type": "markdown",
      "source": [
        "# Use MNIST as an exmaple"
      ]
    },
    {
      "metadata": {
        "id": "j0_0Bq8kYa7M",
        "colab_type": "code",
        "colab": {
          "base_uri": "https://localhost:8080/",
          "height": 88
        },
        "outputId": "0ccf2d2e-1a08-42c8-ff87-8a59f06da18a"
      },
      "cell_type": "code",
      "source": [
        "from keras.datasets import mnist\n",
        "from keras.models import Sequential\n",
        "from keras.layers.core import Dense, Dropout, Activation\n",
        "from keras.utils import np_utils\n",
        "nb_classes = 10\n",
        "\n",
        "# the data, shuffled and split between tran and test sets\n",
        "(X_train, y_train), (X_test, y_test) = mnist.load_data()\n",
        "print(\"X_train original shape\", X_train.shape)\n",
        "print(\"y_train original shape\", y_train.shape)\n",
        "\n",
        "X_train = X_train.reshape(60000, 784)\n",
        "X_test = X_test.reshape(10000, 784)\n",
        "X_train = X_train.astype('float32')\n",
        "X_test = X_test.astype('float32')\n",
        "X_train /= 255\n",
        "X_test /= 255\n",
        "print(\"Training matrix shape\", X_train.shape)\n",
        "print(\"Testing matrix shape\", X_test.shape)\n",
        "\n",
        "Y_train = np_utils.to_categorical(y_train, nb_classes)\n",
        "Y_test = np_utils.to_categorical(y_test, nb_classes)"
      ],
      "execution_count": 3,
      "outputs": [
        {
          "output_type": "stream",
          "text": [
            "('X_train original shape', (60000, 28, 28))\n",
            "('y_train original shape', (60000,))\n",
            "('Training matrix shape', (60000, 784))\n",
            "('Testing matrix shape', (10000, 784))\n"
          ],
          "name": "stdout"
        }
      ]
    },
    {
      "metadata": {
        "id": "XJqtgL1EADj4",
        "colab_type": "text"
      },
      "cell_type": "markdown",
      "source": [
        "# Define a testing network architecture\n",
        "\n",
        "- support l1 regularization\n",
        "- support forcing small weights to zeros during training\n",
        "\n",
        "## NOTE: this network architecture is NOT optimal, but we only use it to demonstrate the idea."
      ]
    },
    {
      "metadata": {
        "id": "XYkBuplJuJwg",
        "colab_type": "code",
        "colab": {}
      },
      "cell_type": "code",
      "source": [
        "from keras.regularizers import l1\n",
        "def create_model( th_val, l1_coef=0 ) :\n",
        "    \n",
        "    smodel = Sequential()\n",
        "    smodel.add(Dense(512, input_shape=(784,), use_bias=False,\n",
        "               kernel_constraint = NoSmallWeights(th_val) if (th_val is not None) else None, \n",
        "               kernel_regularizer=l1(l1_coef)))\n",
        "    smodel.add(Activation('tanh'))\n",
        "    smodel.add(Dropout(0.2))  \n",
        "    smodel.add(Dense(512, use_bias=False,      \n",
        "               kernel_constraint=NoSmallWeights(th_val) if (th_val is not None) else None, \n",
        "               kernel_regularizer=l1(l1_coef)))\n",
        "    smodel.add(Activation('tanh'))\n",
        "    smodel.add(Dropout(0.2))\n",
        "    smodel.add(Dense(10, use_bias=False, \n",
        "               kernel_constraint=NoSmallWeights(th_val) if (th_val is not None) else None, \n",
        "               kernel_regularizer=l1(l1_coef)))\n",
        "    smodel.add(Activation('softmax')) \n",
        "    smodel.compile(loss='categorical_crossentropy', optimizer='adam', metrics=['accuracy'])\n",
        "    return smodel"
      ],
      "execution_count": 0,
      "outputs": []
    },
    {
      "metadata": {
        "id": "VVQk8rUtumMU",
        "colab_type": "code",
        "colab": {
          "base_uri": "https://localhost:8080/",
          "height": 1032
        },
        "outputId": "ccdece86-1d10-4320-b808-c5bd414581aa"
      },
      "cell_type": "code",
      "source": [
        "all_model_weights = []\n",
        "th_val_list = [None, 0, 1e-5, 1e-4, 1e-3, 1e-2 ]\n",
        "for th_val in th_val_list :\n",
        "    print \"-\" * 50\n",
        "    print \"th_val =\", th_val\n",
        "    print \"-\" * 50\n",
        "    smodel = create_model( th_val, l1_coef=1e-4 )\n",
        "    smodel.fit(X_train, Y_train,\n",
        "              batch_size=128, nb_epoch=5,\n",
        "              verbose=0, callbacks=[ShowSparsity((th_val or 0) +K.epsilon())],\n",
        "              validation_data=(X_test, Y_test))\n",
        "    print \"testing accuracy =\", smodel.evaluate( X_test, Y_test, verbose=0 )[1]\n",
        "    all_model_weights.append( smodel.get_weights() )"
      ],
      "execution_count": 5,
      "outputs": [
        {
          "output_type": "stream",
          "text": [
            "--------------------------------------------------\n",
            "th_val = None\n",
            "--------------------------------------------------\n"
          ],
          "name": "stdout"
        },
        {
          "output_type": "stream",
          "text": [
            "/usr/local/lib/python2.7/dist-packages/keras/models.py:981: UserWarning: The `nb_epoch` argument in `fit` has been renamed `epochs`.\n",
            "  warnings.warn('The `nb_epoch` argument in `fit` '\n"
          ],
          "name": "stderr"
        },
        {
          "output_type": "stream",
          "text": [
            "Epoch 00000, sparsity = 0.5033\n",
            "Epoch 00001, sparsity = 0.5007\n",
            "Epoch 00002, sparsity = 0.5005\n",
            "Epoch 00003, sparsity = 0.5016\n",
            "Epoch 00004, sparsity = 0.5003\n",
            "testing accuracy = 0.9599\n",
            "--------------------------------------------------\n",
            "th_val = 0\n",
            "--------------------------------------------------\n",
            "Epoch 00000, sparsity = 0.8736\n",
            "Epoch 00001, sparsity = 0.8729\n",
            "Epoch 00002, sparsity = 0.8530\n",
            "Epoch 00003, sparsity = 0.8476\n",
            "Epoch 00004, sparsity = 0.8457\n",
            "testing accuracy = 0.9309\n",
            "--------------------------------------------------\n",
            "th_val = 1e-05\n",
            "--------------------------------------------------\n",
            "Epoch 00000, sparsity = 0.8738\n",
            "Epoch 00001, sparsity = 0.8611\n",
            "Epoch 00002, sparsity = 0.8653\n",
            "Epoch 00003, sparsity = 0.8621\n",
            "Epoch 00004, sparsity = 0.8369\n",
            "testing accuracy = 0.9312\n",
            "--------------------------------------------------\n",
            "th_val = 0.0001\n",
            "--------------------------------------------------\n",
            "Epoch 00000, sparsity = 0.8804\n",
            "Epoch 00001, sparsity = 0.8813\n",
            "Epoch 00002, sparsity = 0.8729\n",
            "Epoch 00003, sparsity = 0.8621\n",
            "Epoch 00004, sparsity = 0.8644\n",
            "testing accuracy = 0.927\n",
            "--------------------------------------------------\n",
            "th_val = 0.001\n",
            "--------------------------------------------------\n",
            "Epoch 00000, sparsity = 0.9528\n",
            "Epoch 00001, sparsity = 0.9662\n",
            "Epoch 00002, sparsity = 0.9712\n",
            "Epoch 00003, sparsity = 0.9732\n",
            "Epoch 00004, sparsity = 0.9766\n",
            "testing accuracy = 0.9264\n",
            "--------------------------------------------------\n",
            "th_val = 0.01\n",
            "--------------------------------------------------\n",
            "Epoch 00000, sparsity = 0.9762\n",
            "Epoch 00001, sparsity = 0.9823\n",
            "Epoch 00002, sparsity = 0.9849\n",
            "Epoch 00003, sparsity = 0.9864\n",
            "Epoch 00004, sparsity = 0.9874\n",
            "testing accuracy = 0.9132\n"
          ],
          "name": "stdout"
        }
      ]
    },
    {
      "metadata": {
        "id": "9o7bBljOAnUi",
        "colab_type": "text"
      },
      "cell_type": "markdown",
      "source": [
        "# Evaluate model performance before and after setting small weights to zero"
      ]
    },
    {
      "metadata": {
        "id": "zopwDo307FME",
        "colab_type": "code",
        "colab": {}
      },
      "cell_type": "code",
      "source": [
        "def set_small_weights_zeros( w_list, th_val ) :\n",
        "    denominator = 0.\n",
        "    numerator = 0.\n",
        "    for w in w_list :\n",
        "        denominator += w.size\n",
        "        numerator += np.sum(w<th_val)\n",
        "        w[w<th_val] = 0.\n",
        "    return numerator/denominator\n",
        "        "
      ],
      "execution_count": 0,
      "outputs": []
    },
    {
      "metadata": {
        "id": "R6nvNGd0usWE",
        "colab_type": "code",
        "colab": {
          "base_uri": "https://localhost:8080/",
          "height": 485
        },
        "outputId": "860ccdc7-fccd-4025-f48d-99a05bbc5aef"
      },
      "cell_type": "code",
      "source": [
        "results = []\n",
        "for w_list in all_model_weights :\n",
        "    # evaluate model before setting small weights to zeros\n",
        "    smodel.set_weights( w_list )\n",
        "    loss, acc =  smodel.evaluate( X_test, Y_test, verbose=0 )\n",
        "    # set small weights to zeros and compute sparisty\n",
        "    w0_list = deepcopy(w_list)\n",
        "    sparsity = set_small_weights_zeros( w0_list, th_val=K.epsilon() )\n",
        "    # re-evaluate model after setting small weights to zeros\n",
        "    smodel.set_weights( w0_list )\n",
        "    loss0, acc0 =  smodel.evaluate( X_test, Y_test, verbose=0 )\n",
        "    results.append( [sparsity, acc, acc0] )\n",
        "    \n",
        "    \n",
        "pyplot.plot( np.row_stack( results ) ) \n",
        "pyplot.legend(['model sparsity', 'accuracy w/o zero-out', 'accuracy w/ zero-out'], fontsize=16)\n",
        "pyplot.xlabel( 'th_val used in model')\n",
        "pyplot.xticks( range(6), [ str(v) for v in th_val_list ] )"
      ],
      "execution_count": 9,
      "outputs": [
        {
          "output_type": "execute_result",
          "data": {
            "text/plain": [
              "([<matplotlib.axis.XTick at 0x7fc5462b9190>,\n",
              "  <matplotlib.axis.XTick at 0x7fc5a5e0d1d0>,\n",
              "  <matplotlib.axis.XTick at 0x7fc54627cb90>,\n",
              "  <matplotlib.axis.XTick at 0x7fc54628f090>,\n",
              "  <matplotlib.axis.XTick at 0x7fc54627c6d0>,\n",
              "  <matplotlib.axis.XTick at 0x7fc5462caf10>],\n",
              " <a list of 6 Text xticklabel objects>)"
            ]
          },
          "metadata": {
            "tags": []
          },
          "execution_count": 9
        },
        {
          "output_type": "display_data",
          "data": {
            "image/png": "[encoded data removed]",
            "text/plain": [
              "<matplotlib.figure.Figure at 0x7fc54639bd10>"
            ]
          },
          "metadata": {
            "tags": []
          }
        }
      ]
    }
  ]
}